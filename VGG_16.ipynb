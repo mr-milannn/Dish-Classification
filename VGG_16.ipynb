{
 "cells": [
  {
   "cell_type": "code",
   "execution_count": 2,
   "id": "24f6b6a6-6194-483f-8fc7-08474435541b",
   "metadata": {},
   "outputs": [],
   "source": [
    "import torch\n",
    "import torch.nn as nn\n",
    "import torch.optim as optim\n",
    "import torchvision.transforms as transforms\n",
    "import torchvision.datasets as datasets\n",
    "from torch.utils.data import DataLoader\n",
    "import time\n",
    "import copy\n",
    "import os"
   ]
  },
  {
   "cell_type": "code",
   "execution_count": 2,
   "id": "6fec8439-11ac-4017-9273-1425b71acd37",
   "metadata": {},
   "outputs": [
    {
     "name": "stdout",
     "output_type": "stream",
     "text": [
      "Using device: cuda\n"
     ]
    }
   ],
   "source": [
    "# Check for GPU\n",
    "device = torch.device(\"cuda\" if torch.cuda.is_available() else \"cpu\")\n",
    "print(f\"Using device: {device}\")"
   ]
  },
  {
   "cell_type": "code",
   "execution_count": 3,
   "id": "5a8b19ae-23e8-4e82-abf4-43070cae3d91",
   "metadata": {},
   "outputs": [],
   "source": [
    "# Data Augmentation and Normalization\n",
    "train_transforms = transforms.Compose([\n",
    "    transforms.Resize((224, 224)),\n",
    "    transforms.RandomHorizontalFlip(),\n",
    "    transforms.RandomRotation(15),\n",
    "    transforms.ColorJitter(brightness=0.2, contrast=0.2, saturation=0.2, hue=0.1),\n",
    "    transforms.RandomAffine(10),\n",
    "    transforms.ToTensor(),\n",
    "    transforms.Normalize(mean=[0.485, 0.456, 0.406], std=[0.229, 0.224, 0.225])\n",
    "])\n",
    "\n",
    "val_transforms = transforms.Compose([\n",
    "    transforms.Resize((224, 224)),\n",
    "    transforms.ToTensor(),\n",
    "    transforms.Normalize(mean=[0.485, 0.456, 0.406], std=[0.229, 0.224, 0.225])\n",
    "])"
   ]
  },
  {
   "cell_type": "code",
   "execution_count": 4,
   "id": "16df1127-19a9-471f-adcd-3a8d86819027",
   "metadata": {},
   "outputs": [],
   "source": [
    "# Load Datasets\n",
    "train_dataset = datasets.ImageFolder(root=\"DL Dataset/train\", transform=train_transforms)\n",
    "val_dataset = datasets.ImageFolder(root=\"DL Dataset/val\", transform=val_transforms)"
   ]
  },
  {
   "cell_type": "code",
   "execution_count": 5,
   "id": "6322e660-4ebd-444e-8076-c255f86c66db",
   "metadata": {},
   "outputs": [],
   "source": [
    "# Create Data Loaders\n",
    "train_loader = DataLoader(train_dataset, batch_size=32, shuffle=True, num_workers=4)\n",
    "val_loader = DataLoader(val_dataset, batch_size=32, shuffle=False, num_workers=4)"
   ]
  },
  {
   "cell_type": "code",
   "execution_count": 6,
   "id": "ba34ec15-c197-4fb7-9e11-d59e2291b6d6",
   "metadata": {},
   "outputs": [
    {
     "name": "stderr",
     "output_type": "stream",
     "text": [
      "C:\\Users\\PRIYANSHU\\AppData\\Local\\Programs\\Python\\Python313\\Lib\\site-packages\\torchvision\\models\\_utils.py:208: UserWarning: The parameter 'pretrained' is deprecated since 0.13 and may be removed in the future, please use 'weights' instead.\n",
      "  warnings.warn(\n",
      "C:\\Users\\PRIYANSHU\\AppData\\Local\\Programs\\Python\\Python313\\Lib\\site-packages\\torchvision\\models\\_utils.py:223: UserWarning: Arguments other than a weight enum or `None` for 'weights' are deprecated since 0.13 and may be removed in the future. The current behavior is equivalent to passing `weights=VGG16_Weights.IMAGENET1K_V1`. You can also use `weights=VGG16_Weights.DEFAULT` to get the most up-to-date weights.\n",
      "  warnings.warn(msg)\n"
     ]
    }
   ],
   "source": [
    "# Load Pretrained VGG16 Model\n",
    "from torchvision import models\n",
    "\n",
    "model = models.vgg16(pretrained=True)"
   ]
  },
  {
   "cell_type": "code",
   "execution_count": 7,
   "id": "3ea23a1d-dbde-4201-9a58-35acbcbf4676",
   "metadata": {},
   "outputs": [],
   "source": [
    "# Modify Fully Connected Layers for Custom Classification\n",
    "num_ftrs = model.classifier[6].in_features\n",
    "model.classifier[6] = nn.Linear(num_ftrs, len(train_dataset.classes))"
   ]
  },
  {
   "cell_type": "code",
   "execution_count": 8,
   "id": "a4faea34-98d5-4933-972d-deee8970201c",
   "metadata": {},
   "outputs": [],
   "source": [
    "# Move Model to Device (GPU/CPU)\n",
    "model = model.to(device)"
   ]
  },
  {
   "cell_type": "code",
   "execution_count": 9,
   "id": "e434cd7d-345e-4883-b65e-6d9d149ce540",
   "metadata": {},
   "outputs": [],
   "source": [
    "# Loss Function and Optimizer\n",
    "criterion = nn.CrossEntropyLoss()\n",
    "optimizer = optim.Adam(model.parameters(), lr=0.0001)"
   ]
  },
  {
   "cell_type": "code",
   "execution_count": 10,
   "id": "2a9acc40-28f9-4677-9edd-6a89f213896b",
   "metadata": {},
   "outputs": [],
   "source": [
    "# Early Stopping Parameters\n",
    "early_stopping_patience = 5\n",
    "best_val_loss = float(\"inf\")\n",
    "early_stop_counter = 0"
   ]
  },
  {
   "cell_type": "code",
   "execution_count": 11,
   "id": "027c8b50-bc55-45d8-a872-7e0d2a11cfa4",
   "metadata": {},
   "outputs": [],
   "source": [
    "# Training Function\n",
    "def train_model(model, criterion, optimizer, train_loader, val_loader, num_epochs=25):\n",
    "    global best_val_loss, early_stop_counter\n",
    "\n",
    "    best_model_wts = copy.deepcopy(model.state_dict())\n",
    "\n",
    "    for epoch in range(num_epochs):\n",
    "        print(f\"Epoch {epoch+1}/{num_epochs}\")\n",
    "\n",
    "        # Training Phase\n",
    "        model.train()\n",
    "        running_loss = 0.0\n",
    "        correct = 0\n",
    "        total = 0\n",
    "\n",
    "        for inputs, labels in train_loader:\n",
    "            inputs, labels = inputs.to(device), labels.to(device)\n",
    "\n",
    "            optimizer.zero_grad()\n",
    "            outputs = model(inputs)\n",
    "            loss = criterion(outputs, labels)\n",
    "            loss.backward()\n",
    "            optimizer.step()\n",
    "\n",
    "            running_loss += loss.item() * inputs.size(0)\n",
    "            _, predicted = torch.max(outputs, 1)\n",
    "            correct += (predicted == labels).sum().item()\n",
    "            total += labels.size(0)\n",
    "\n",
    "        train_loss = running_loss / len(train_loader.dataset)\n",
    "        train_acc = correct / total\n",
    "\n",
    "        # Validation Phase\n",
    "        model.eval()\n",
    "        val_loss = 0.0\n",
    "        correct = 0\n",
    "        total = 0\n",
    "\n",
    "        with torch.no_grad():\n",
    "            for inputs, labels in val_loader:\n",
    "                inputs, labels = inputs.to(device), labels.to(device)\n",
    "\n",
    "                outputs = model(inputs)\n",
    "                loss = criterion(outputs, labels)\n",
    "\n",
    "                val_loss += loss.item() * inputs.size(0)\n",
    "                _, predicted = torch.max(outputs, 1)\n",
    "                correct += (predicted == labels).sum().item()\n",
    "                total += labels.size(0)\n",
    "\n",
    "        val_loss = val_loss / len(val_loader.dataset)\n",
    "        val_acc = correct / total\n",
    "\n",
    "        print(f\"Train Loss: {train_loss:.4f}, Train Acc: {train_acc:.4f} | Val Loss: {val_loss:.4f}, Val Acc: {val_acc:.4f}\")\n",
    "\n",
    "        # Early Stopping Check\n",
    "        if val_loss < best_val_loss:\n",
    "            best_val_loss = val_loss\n",
    "            best_model_wts = copy.deepcopy(model.state_dict())\n",
    "            early_stop_counter = 0  # Reset counter when improvement is found\n",
    "        else:\n",
    "            early_stop_counter += 1\n",
    "            print(f\"Early stopping counter: {early_stop_counter}/{early_stopping_patience}\")\n",
    "\n",
    "        if early_stop_counter >= early_stopping_patience:\n",
    "            print(\"Early stopping triggered!\")\n",
    "            break\n",
    " # Load best model weights\n",
    "    model.load_state_dict(best_model_wts)\n",
    "    return model "
   ]
  },
  {
   "cell_type": "code",
   "execution_count": 12,
   "id": "1bc21915-1eb1-40fc-a4a3-c83d28a966e8",
   "metadata": {},
   "outputs": [
    {
     "name": "stdout",
     "output_type": "stream",
     "text": [
      "Epoch 1/20\n",
      "Train Loss: 1.9765, Train Acc: 0.4208 | Val Loss: 1.5416, Val Acc: 0.5985\n",
      "Epoch 2/20\n",
      "Train Loss: 0.8903, Train Acc: 0.7220 | Val Loss: 1.0970, Val Acc: 0.7111\n",
      "Epoch 3/20\n",
      "Train Loss: 0.6332, Train Acc: 0.8078 | Val Loss: 1.3687, Val Acc: 0.7227\n",
      "Early stopping counter: 1/5\n",
      "Epoch 4/20\n",
      "Train Loss: 0.4302, Train Acc: 0.8656 | Val Loss: 1.3946, Val Acc: 0.7492\n",
      "Early stopping counter: 2/5\n",
      "Epoch 5/20\n",
      "Train Loss: 0.3183, Train Acc: 0.9015 | Val Loss: 1.4897, Val Acc: 0.7793\n",
      "Early stopping counter: 3/5\n",
      "Epoch 6/20\n",
      "Train Loss: 0.2787, Train Acc: 0.9128 | Val Loss: 1.0946, Val Acc: 0.7945\n",
      "Epoch 7/20\n",
      "Train Loss: 0.2086, Train Acc: 0.9374 | Val Loss: 1.1990, Val Acc: 0.7936\n",
      "Early stopping counter: 1/5\n",
      "Epoch 8/20\n",
      "Train Loss: 0.2529, Train Acc: 0.9220 | Val Loss: 1.6105, Val Acc: 0.7802\n",
      "Early stopping counter: 2/5\n",
      "Epoch 9/20\n",
      "Train Loss: 0.1948, Train Acc: 0.9430 | Val Loss: 1.1446, Val Acc: 0.7968\n",
      "Early stopping counter: 3/5\n",
      "Epoch 10/20\n",
      "Train Loss: 0.1633, Train Acc: 0.9479 | Val Loss: 1.9294, Val Acc: 0.7802\n",
      "Early stopping counter: 4/5\n",
      "Epoch 11/20\n",
      "Train Loss: 0.1664, Train Acc: 0.9509 | Val Loss: 1.2598, Val Acc: 0.8035\n",
      "Early stopping counter: 5/5\n",
      "Early stopping triggered!\n"
     ]
    }
   ],
   "source": [
    "# Train the Model\n",
    "trained_model = train_model(model, criterion, optimizer, train_loader, val_loader, num_epochs=20)"
   ]
  },
  {
   "cell_type": "code",
   "execution_count": null,
   "id": "2b159bac-8410-4ea3-ac0b-1c485d02b0b5",
   "metadata": {},
   "outputs": [],
   "source": []
  }
 ],
 "metadata": {
  "kernelspec": {
   "display_name": "Python 3 (ipykernel)",
   "language": "python",
   "name": "python3"
  },
  "language_info": {
   "codemirror_mode": {
    "name": "ipython",
    "version": 3
   },
   "file_extension": ".py",
   "mimetype": "text/x-python",
   "name": "python",
   "nbconvert_exporter": "python",
   "pygments_lexer": "ipython3",
   "version": "3.13.1"
  }
 },
 "nbformat": 4,
 "nbformat_minor": 5
}
